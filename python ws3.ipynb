{
 "cells": [
  {
   "cell_type": "markdown",
   "id": "464ab4d8",
   "metadata": {},
   "source": [
    "### 11. Write a python function print pyramid of stars. Level of the pyramid should be taken as an input from the user."
   ]
  },
  {
   "cell_type": "code",
   "execution_count": 16,
   "id": "41bdd5e0",
   "metadata": {},
   "outputs": [
    {
     "name": "stdout",
     "output_type": "stream",
     "text": [
      "Enter the level of Pyramid you wish6\n",
      "          *  \n",
      "         * *  \n",
      "        * * *  \n",
      "       * * * *  \n",
      "      * * * * *  \n",
      "     * * * * * *  \n",
      "None\n"
     ]
    }
   ],
   "source": [
    "def pyramid_pattern(n):\n",
    "    a = 2 * n-2\n",
    "    for i in range(0, n):\n",
    "        for j in range(0, a):\n",
    "            print(end=\" \")\n",
    "        a = a-1\n",
    "        for j in range(0, i+1):\n",
    "            print(\"*\", end=\" \")\n",
    "        print(\" \")\n",
    "level=int(input(\"Enter the level of Pyramid you wish\"))\n",
    "print(pyramid_pattern(level))"
   ]
  },
  {
   "cell_type": "markdown",
   "id": "76f92991",
   "metadata": {},
   "source": [
    "### 12. Write a python function print Hourglass pattern. E.g. Input = 5"
   ]
  },
  {
   "cell_type": "code",
   "execution_count": 12,
   "id": "95cb0499",
   "metadata": {},
   "outputs": [],
   "source": [
    "def pattern(rows_no):\n",
    "  \n",
    "    # for loop for printing upper half\n",
    "    for i in range(1, rows_no + 1): \n",
    "  \n",
    "        # printing i spaces at the \n",
    "        # beginning of each row\n",
    "        for k in range(1, i):\n",
    "            print(\" \", end = \"\")\n",
    "          \n",
    "        # printing * to rows value\n",
    "        # at the end of each row\n",
    "        for j in range(i, rows_no + 1): \n",
    "            print('*', end = \" \") \n",
    "  \n",
    "        print()\n",
    "      \n",
    "    # for loop for printing lower half\n",
    "    for i in range(rows_no - 1, 0, -1): \n",
    "  \n",
    "        # printing i spaces at the\n",
    "        # beginning of each row\n",
    "        for k in range(1, i):\n",
    "            print(\" \", end = \"\")\n",
    "          \n",
    "        # printing * to rows value\n",
    "        # at the end of each row\n",
    "        for j in range(i, rows_no + 1):\n",
    "            print('*', end = \" \")\n",
    "  \n",
    "        print()"
   ]
  },
  {
   "cell_type": "code",
   "execution_count": 17,
   "id": "b0a22177",
   "metadata": {},
   "outputs": [
    {
     "name": "stdout",
     "output_type": "stream",
     "text": [
      "Enter a number for hourglass pattern7\n",
      "* * * * * * * \n",
      " * * * * * * \n",
      "  * * * * * \n",
      "   * * * * \n",
      "    * * * \n",
      "     * * \n",
      "      * \n",
      "     * * \n",
      "    * * * \n",
      "   * * * * \n",
      "  * * * * * \n",
      " * * * * * * \n",
      "* * * * * * * \n"
     ]
    }
   ],
   "source": [
    "rows=int(input(\"Enter a number for hourglass pattern\"))\n",
    "  \n",
    "pattern(rows) "
   ]
  },
  {
   "cell_type": "code",
   "execution_count": null,
   "id": "a2c4bcbc",
   "metadata": {},
   "outputs": [],
   "source": []
  },
  {
   "cell_type": "markdown",
   "id": "11c6ccfe",
   "metadata": {},
   "source": [
    "### 13. Write a python function to print Pascal’s Triangle. The number of levels in the triangle must be taken as input by the user. E.g. Input = 5"
   ]
  },
  {
   "cell_type": "code",
   "execution_count": 22,
   "id": "d8f1cc3c",
   "metadata": {},
   "outputs": [],
   "source": [
    "def pascal(n):\n",
    "    for i in range(n+1):\n",
    "        for j in range(n-i):\n",
    "            print(' ', end='')\n",
    "\n",
    "        C = 1\n",
    "        \n",
    "        for j in range(1, i+1):\n",
    "            print(C, ' ', sep='', end='')\n",
    "            C = C * (i - j) // j\n",
    "        print()"
   ]
  },
  {
   "cell_type": "code",
   "execution_count": 24,
   "id": "6d6e656c",
   "metadata": {},
   "outputs": [
    {
     "name": "stdout",
     "output_type": "stream",
     "text": [
      "Enter the level of Pascal Triangle you wish5\n",
      "     \n",
      "    1 \n",
      "   1 1 \n",
      "  1 2 1 \n",
      " 1 3 3 1 \n",
      "1 4 6 4 1 \n"
     ]
    }
   ],
   "source": [
    "level=int(input(\"Enter the level of Pascal Triangle you wish\"))\n",
    "pascal(level)"
   ]
  },
  {
   "cell_type": "code",
   "execution_count": null,
   "id": "0be0ad2c",
   "metadata": {},
   "outputs": [],
   "source": []
  },
  {
   "cell_type": "markdown",
   "id": "be56b54c",
   "metadata": {},
   "source": [
    "### 14. Write a python function to print Diamond Shaped Pattern shown below. Function must take integer input which represents the number of stars in the middle most line. E.g.: Input = 5"
   ]
  },
  {
   "cell_type": "code",
   "execution_count": 39,
   "id": "f8829156",
   "metadata": {},
   "outputs": [
    {
     "name": "stdout",
     "output_type": "stream",
     "text": [
      "Enter the number of stars for the middle line of Diamond Shape: 5\n",
      "    * \n",
      "   * * \n",
      "  * * * \n",
      " * * * * \n",
      "* * * * * \n",
      " * * * * \n",
      "  * * * \n",
      "   * * \n",
      "    * \n"
     ]
    }
   ],
   "source": [
    "def diamond(no):\n",
    "   \n",
    "    m = 1\n",
    "    while m<no:\n",
    "        print(\" \"*(no-m) + \"* \" * m)\n",
    "        m+=1 \n",
    "\n",
    "    m = no\n",
    "    while m>=1:\n",
    "        print(\" \"*(number_of_values-m) + \"* \" * m)\n",
    "        m-=1\n",
    "        \n",
    "number_of_stars= int(input('Enter the number of stars for the middle line of Diamond Shape: '))\n",
    "diamond(number_of_stars)"
   ]
  },
  {
   "cell_type": "code",
   "execution_count": null,
   "id": "56571a08",
   "metadata": {},
   "outputs": [],
   "source": []
  },
  {
   "cell_type": "markdown",
   "id": "cbeab171",
   "metadata": {},
   "source": [
    "### 15. Write a python function to print Diamond Shaped Character Pattern shown below. Function must take integer input within range 1 to 26, which represents the rank of the alphabet. E.g.:  Input = 5"
   ]
  },
  {
   "cell_type": "code",
   "execution_count": 74,
   "id": "5d01f4c3",
   "metadata": {},
   "outputs": [
    {
     "name": "stdout",
     "output_type": "stream",
     "text": [
      "Enter the level to be printed in Diamond4\n",
      "   A\n",
      "  ABC\n",
      " ABCDE\n",
      "ABCDEFG\n",
      " ABCDE\n",
      "  ABC\n",
      "   A\n"
     ]
    }
   ],
   "source": [
    "# diamond alphabet pattern\n",
    "\n",
    "def diamond_alp(n):\n",
    "# upward pyramid\n",
    "    for i in range(n):\n",
    "        for j in range(n - i-1):\n",
    "            print(' ', end='')\n",
    "        for j in range(2 * i+1 ):\n",
    "            print(chr(65 + j), end='')\n",
    "        print()\n",
    "\n",
    "# downward pyramid\n",
    "    for i in range(n -1):\n",
    "        for j in range(i + 1):\n",
    "            print(' ', end='')\n",
    "        for j in range(2*(n - i - 1) - 1):\n",
    "            print(chr(65 + j), end='')\n",
    "        print()\n",
    "    \n",
    "alp_num=int(input(\"Enter the level to be printed in Diamond\"))\n",
    "diamond_alp(alp_num)"
   ]
  },
  {
   "cell_type": "code",
   "execution_count": null,
   "id": "5c162de3",
   "metadata": {},
   "outputs": [],
   "source": []
  }
 ],
 "metadata": {
  "kernelspec": {
   "display_name": "Python 3 (ipykernel)",
   "language": "python",
   "name": "python3"
  },
  "language_info": {
   "codemirror_mode": {
    "name": "ipython",
    "version": 3
   },
   "file_extension": ".py",
   "mimetype": "text/x-python",
   "name": "python",
   "nbconvert_exporter": "python",
   "pygments_lexer": "ipython3",
   "version": "3.9.12"
  }
 },
 "nbformat": 4,
 "nbformat_minor": 5
}
